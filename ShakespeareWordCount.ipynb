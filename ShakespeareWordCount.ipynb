{
 "cells": [
  {
   "cell_type": "code",
   "execution_count": 0,
   "metadata": {
    "application/vnd.databricks.v1+cell": {
     "cellMetadata": {
      "byteLimit": 2048000,
      "rowLimit": 10000
     },
     "inputWidgets": {},
     "nuid": "25329e45-1d5b-4f56-a7b1-3c27ce0c37b2",
     "showTitle": false,
     "title": ""
    }
   },
   "outputs": [],
   "source": [
    "import requests\n",
    "import pyspark\n",
    "import re\n",
    "\n",
    "# URL of full works of Shakespeare as available in the public domain on Gutenberg\n",
    "gutenberg_url = 'https://www.gutenberg.org/ebooks/100.txt.utf-8'\n",
    "shakespeare_response = requests.get(gutenberg_url)\n"
   ]
  },
  {
   "cell_type": "code",
   "execution_count": 0,
   "metadata": {
    "application/vnd.databricks.v1+cell": {
     "cellMetadata": {
      "byteLimit": 2048000,
      "rowLimit": 10000
     },
     "inputWidgets": {},
     "nuid": "de61f75d-751a-4bfe-8c3b-fac0a152e3ed",
     "showTitle": false,
     "title": ""
    }
   },
   "outputs": [
    {
     "output_type": "execute_result",
     "data": {
      "text/plain": [
       "200"
      ]
     },
     "execution_count": 4,
     "metadata": {},
     "output_type": "execute_result"
    }
   ],
   "source": [
    "shakespeare_response.status_code"
   ]
  },
  {
   "cell_type": "code",
   "execution_count": 0,
   "metadata": {
    "application/vnd.databricks.v1+cell": {
     "cellMetadata": {
      "byteLimit": 2048000,
      "rowLimit": 10000
     },
     "inputWidgets": {},
     "nuid": "beecce28-bba8-4094-ac47-e608f1baeba3",
     "showTitle": false,
     "title": ""
    }
   },
   "outputs": [],
   "source": [
    "shakespeare_text = shakespeare_response.text.split('\\n')"
   ]
  },
  {
   "cell_type": "code",
   "execution_count": 0,
   "metadata": {
    "application/vnd.databricks.v1+cell": {
     "cellMetadata": {
      "byteLimit": 2048000,
      "rowLimit": 10000
     },
     "inputWidgets": {},
     "nuid": "a1c328a9-043b-4652-b2e3-0436b620ac4e",
     "showTitle": false,
     "title": ""
    }
   },
   "outputs": [],
   "source": [
    "# Create an RDD containing the works of Shakeseare\n",
    "shakespeare=spark.sparkContext.parallelize(shakespeare_text)"
   ]
  },
  {
   "cell_type": "code",
   "execution_count": 0,
   "metadata": {
    "application/vnd.databricks.v1+cell": {
     "cellMetadata": {
      "byteLimit": 2048000,
      "rowLimit": 10000
     },
     "inputWidgets": {},
     "nuid": "58af1802-d2b7-488e-8282-5673152dbd91",
     "showTitle": false,
     "title": ""
    }
   },
   "outputs": [],
   "source": [
    "# SHAPING\n",
    "\n",
    "# Create an RDD, called shakespeare_flat, including all words in a single dimension, in lowercase and without punctuation using the methods map, lower and replace\n",
    "word_count = shakespeare.flatMap(lambda x: x.split(\" \"))\\\n",
    "    .map(lambda x: re.sub(r\"[,.!?:;'—]\",\"\",x).strip().lower())\\\n",
    "        .filter(lambda x: x!='')\\\n",
    "            .map(lambda x: (x,1))\\\n",
    "                .reduceByKey(lambda x,y: x+y)\\\n",
    "                    .sortBy(lambda x: x[1], ascending=False)\n",
    "\n",
    "\n"
   ]
  },
  {
   "cell_type": "markdown",
   "metadata": {
    "application/vnd.databricks.v1+cell": {
     "cellMetadata": {},
     "inputWidgets": {},
     "nuid": "ea73b16b-2a1b-4e8b-a0ff-198c22232407",
     "showTitle": false,
     "title": ""
    }
   },
   "source": [
    "The total number of different words used by Shakespeare in his Complete Works is:"
   ]
  },
  {
   "cell_type": "code",
   "execution_count": 0,
   "metadata": {
    "application/vnd.databricks.v1+cell": {
     "cellMetadata": {
      "byteLimit": 2048000,
      "rowLimit": 10000
     },
     "inputWidgets": {},
     "nuid": "002e2e12-ba40-479d-9153-4b79643e598c",
     "showTitle": false,
     "title": ""
    }
   },
   "outputs": [
    {
     "output_type": "execute_result",
     "data": {
      "text/plain": [
       "34934"
      ]
     },
     "execution_count": 77,
     "metadata": {},
     "output_type": "execute_result"
    }
   ],
   "source": [
    "word_count.count()"
   ]
  },
  {
   "cell_type": "markdown",
   "metadata": {
    "application/vnd.databricks.v1+cell": {
     "cellMetadata": {},
     "inputWidgets": {},
     "nuid": "a1b0d54e-8c7a-4e8a-89eb-8f4f0a552b60",
     "showTitle": false,
     "title": ""
    }
   },
   "source": [
    "The top-10 words used by Shakespeare are:"
   ]
  },
  {
   "cell_type": "code",
   "execution_count": 0,
   "metadata": {
    "application/vnd.databricks.v1+cell": {
     "cellMetadata": {
      "byteLimit": 2048000,
      "rowLimit": 10000
     },
     "inputWidgets": {},
     "nuid": "d1a4e995-fb63-406b-90dd-5fe1f0efbbab",
     "showTitle": false,
     "title": ""
    }
   },
   "outputs": [
    {
     "output_type": "display_data",
     "data": {
      "text/html": [
       "<style scoped>\n",
       "  .table-result-container {\n",
       "    max-height: 300px;\n",
       "    overflow: auto;\n",
       "  }\n",
       "  table, th, td {\n",
       "    border: 1px solid black;\n",
       "    border-collapse: collapse;\n",
       "  }\n",
       "  th, td {\n",
       "    padding: 5px;\n",
       "  }\n",
       "  th {\n",
       "    text-align: left;\n",
       "  }\n",
       "</style><div class='table-result-container'><table class='table-result'><thead style='background-color: white'><tr><th>_1</th><th>_2</th></tr></thead><tbody><tr><td>the</td><td>30428</td></tr><tr><td>and</td><td>28452</td></tr><tr><td>i</td><td>21666</td></tr><tr><td>to</td><td>20680</td></tr><tr><td>of</td><td>18856</td></tr><tr><td>a</td><td>16216</td></tr><tr><td>you</td><td>14401</td></tr><tr><td>my</td><td>13155</td></tr><tr><td>in</td><td>12426</td></tr><tr><td>that</td><td>11785</td></tr></tbody></table></div>"
      ]
     },
     "metadata": {
      "application/vnd.databricks.v1+output": {
       "addedWidgets": {},
       "aggData": [],
       "aggError": "",
       "aggOverflow": false,
       "aggSchema": [],
       "aggSeriesLimitReached": false,
       "aggType": "",
       "arguments": {},
       "columnCustomDisplayInfos": {},
       "data": [
        [
         "the",
         30428
        ],
        [
         "and",
         28452
        ],
        [
         "i",
         21666
        ],
        [
         "to",
         20680
        ],
        [
         "of",
         18856
        ],
        [
         "a",
         16216
        ],
        [
         "you",
         14401
        ],
        [
         "my",
         13155
        ],
        [
         "in",
         12426
        ],
        [
         "that",
         11785
        ]
       ],
       "datasetInfos": [],
       "dbfsResultPath": null,
       "isJsonSchema": true,
       "metadata": {},
       "overflow": false,
       "plotOptions": {
        "customPlotOptions": {},
        "displayType": "table",
        "pivotAggregation": null,
        "pivotColumns": null,
        "xColumns": null,
        "yColumns": null
       },
       "removedWidgets": [],
       "schema": [
        {
         "metadata": "{}",
         "name": "_1",
         "type": "\"string\""
        },
        {
         "metadata": "{}",
         "name": "_2",
         "type": "\"long\""
        }
       ],
       "type": "table"
      }
     },
     "output_type": "display_data"
    }
   ],
   "source": [
    "display(word_count.take(10))"
   ]
  },
  {
   "cell_type": "markdown",
   "metadata": {
    "application/vnd.databricks.v1+cell": {
     "cellMetadata": {},
     "inputWidgets": {},
     "nuid": "26ec9be8-c8d6-40ab-926b-a4be0e56bb8d",
     "showTitle": false,
     "title": ""
    }
   },
   "source": [
    "Of all the words he used, he used some only once. How many words were used only once?"
   ]
  },
  {
   "cell_type": "code",
   "execution_count": 0,
   "metadata": {
    "application/vnd.databricks.v1+cell": {
     "cellMetadata": {
      "byteLimit": 2048000,
      "rowLimit": 10000
     },
     "inputWidgets": {},
     "nuid": "33c2a3ef-996e-4340-9fd7-f3e74f81764e",
     "showTitle": false,
     "title": ""
    }
   },
   "outputs": [
    {
     "output_type": "execute_result",
     "data": {
      "text/plain": [
       "16703"
      ]
     },
     "execution_count": 81,
     "metadata": {},
     "output_type": "execute_result"
    }
   ],
   "source": [
    "once_used_words = word_count.filter(lambda x: x[1]==1)\n",
    "once_used_words.count()"
   ]
  },
  {
   "cell_type": "markdown",
   "metadata": {
    "application/vnd.databricks.v1+cell": {
     "cellMetadata": {},
     "inputWidgets": {},
     "nuid": "2fcb96a1-5dac-4def-a81d-8b41312b4a18",
     "showTitle": false,
     "title": ""
    }
   },
   "source": [
    "That's quite a lot, let's take a look at some of them"
   ]
  },
  {
   "cell_type": "code",
   "execution_count": 0,
   "metadata": {
    "application/vnd.databricks.v1+cell": {
     "cellMetadata": {
      "byteLimit": 2048000,
      "rowLimit": 10000
     },
     "inputWidgets": {},
     "nuid": "52f1789f-9d30-4b0a-813b-6ea72ec6362f",
     "showTitle": false,
     "title": ""
    }
   },
   "outputs": [
    {
     "output_type": "execute_result",
     "data": {
      "text/plain": [
       "[('niggarding', 1),\n",
       " ('all-eating', 1),\n",
       " ('refigured', 1),\n",
       " ('astronomy', 1),\n",
       " ('swift-footed', 1),\n",
       " ('faring', 1),\n",
       " ('23', 1),\n",
       " ('presagers', 1),\n",
       " ('25', 1),\n",
       " ('famoused', 1),\n",
       " ('arising', 1),\n",
       " ('friend)', 1),\n",
       " ('31', 1),\n",
       " ('salving', 1),\n",
       " ('undivided', 1),\n",
       " ('43', 1),\n",
       " ('come)', 1),\n",
       " ('59', 1),\n",
       " ('pebbled', 1),\n",
       " ('61', 1),\n",
       " ('62', 1),\n",
       " ('beated', 1),\n",
       " ('65', 1),\n",
       " ('present’st', 1),\n",
       " ('choirs', 1),\n",
       " ('learned’s', 1),\n",
       " ('81', 1),\n",
       " ('found)', 1),\n",
       " ('precious)', 1),\n",
       " ('garments’', 1),\n",
       " ('stewards', 1),\n",
       " ('vermilion', 1),\n",
       " ('99', 1),\n",
       " ('intermixed’', 1),\n",
       " ('descriptions', 1),\n",
       " ('prefiguring', 1),\n",
       " ('dear-purchased', 1),\n",
       " ('118', 1),\n",
       " ('bevel', 1),\n",
       " ('123', 1),\n",
       " ('sway’st', 1),\n",
       " ('wood’s', 1),\n",
       " ('129', 1),\n",
       " ('damasked', 1),\n",
       " ('131', 1),\n",
       " ('149', 1),\n",
       " ('fistula', 1),\n",
       " ('quicklier', 1),\n",
       " ('mites', 1),\n",
       " ('christendoms', 1),\n",
       " ('naturalize', 1),\n",
       " ('soundness', 1),\n",
       " ('goers', 1),\n",
       " ('applications', 1),\n",
       " ('isbel’s', 1),\n",
       " ('cherisher', 1),\n",
       " ('steward_]', 1),\n",
       " ('principles', 1),\n",
       " ('monarchysee', 1),\n",
       " ('expressive', 1),\n",
       " ('past-cure', 1),\n",
       " ('sources', 1),\n",
       " ('forefinger', 1),\n",
       " ('ensconcing', 1),\n",
       " ('artists', 1),\n",
       " ('vinager_', 1),\n",
       " ('repeal’d', 1),\n",
       " ('threat’ningly', 1),\n",
       " ('hell-pains', 1),\n",
       " ('curvet', 1),\n",
       " ('caprichio', 1),\n",
       " ('custard', 1),\n",
       " ('guess’d', 1),\n",
       " ('misprizing', 1),\n",
       " ('“never”_', 1),\n",
       " ('still-peering', 1),\n",
       " ('attributed', 1),\n",
       " ('over-pay', 1),\n",
       " ('appoints', 1),\n",
       " ('persists', 1),\n",
       " ('choughs’', 1),\n",
       " ('thromuldo', 1),\n",
       " ('unseal’d', 1),\n",
       " ('double-meaning', 1),\n",
       " ('militarist', 1),\n",
       " ('saidi', 1),\n",
       " ('trueor', 1),\n",
       " ('cosmo', 1),\n",
       " ('gratii', 1),\n",
       " ('florence’s', 1),\n",
       " ('allurement', 1),\n",
       " ('ravishments', 1),\n",
       " ('[_unmuffling', 1),\n",
       " ('salads', 1),\n",
       " ('nose-herbs', 1),\n",
       " ('boggle', 1),\n",
       " ('ventidius’s', 1),\n",
       " ('euphronius', 1),\n",
       " ('[_embracing_]', 1),\n",
       " ('alexascome', 1)]"
      ]
     },
     "execution_count": 83,
     "metadata": {},
     "output_type": "execute_result"
    }
   ],
   "source": [
    "once_used_words.take(100)"
   ]
  },
  {
   "cell_type": "markdown",
   "metadata": {
    "application/vnd.databricks.v1+cell": {
     "cellMetadata": {},
     "inputWidgets": {},
     "nuid": "988937fe-20dc-494e-a4bf-e37ec77ad142",
     "showTitle": false,
     "title": ""
    }
   },
   "source": [
    "Oops, there are stage directions in there, could do some better cleaning"
   ]
  },
  {
   "cell_type": "code",
   "execution_count": 0,
   "metadata": {
    "application/vnd.databricks.v1+cell": {
     "cellMetadata": {},
     "inputWidgets": {},
     "nuid": "3eb9cbfe-4cbd-4fe2-9901-7034afea36af",
     "showTitle": false,
     "title": ""
    }
   },
   "outputs": [],
   "source": []
  }
 ],
 "metadata": {
  "application/vnd.databricks.v1+notebook": {
   "dashboards": [],
   "language": "python",
   "notebookMetadata": {
    "pythonIndentUnit": 4
   },
   "notebookName": "ShakespeareWordCount",
   "widgets": {}
  }
 },
 "nbformat": 4,
 "nbformat_minor": 0
}
